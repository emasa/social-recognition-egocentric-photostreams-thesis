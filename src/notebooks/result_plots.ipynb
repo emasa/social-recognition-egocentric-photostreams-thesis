{
 "cells": [
  {
   "cell_type": "code",
   "execution_count": 1,
   "metadata": {},
   "outputs": [],
   "source": [
    "# Notebook details"
   ]
  },
  {
   "cell_type": "code",
   "execution_count": 2,
   "metadata": {},
   "outputs": [
    {
     "data": {
      "text/html": [
       "<style>.container { width:100% !important; }</style>"
      ],
      "text/plain": [
       "<IPython.core.display.HTML object>"
      ]
     },
     "metadata": {},
     "output_type": "display_data"
    }
   ],
   "source": [
    "def setup_notebook(fix_python_path=True, reduce_margins=True, plot_inline=True):\n",
    "    if reduce_margins:\n",
    "        # Reduce side margins of the notebook\n",
    "        from IPython.core.display import display, HTML\n",
    "        display(HTML(\"<style>.container { width:100% !important; }</style>\"))\n",
    "\n",
    "    if fix_python_path:\n",
    "        # add egosocial to the python path\n",
    "        import os, sys\n",
    "        sys.path.extend([os.path.dirname(os.path.abspath('.'))])\n",
    "\n",
    "    if plot_inline:\n",
    "        # Plots inside cells\n",
    "        %matplotlib inline\n",
    "    \n",
    "    global __file__\n",
    "    __file__ = 'Notebook'\n",
    "\n",
    "setup_notebook()"
   ]
  },
  {
   "cell_type": "code",
   "execution_count": 10,
   "metadata": {},
   "outputs": [],
   "source": [
    "import os\n",
    "\n",
    "import matplotlib.pyplot as plt\n",
    "import pandas as pd\n",
    "import numpy as np\n",
    "from matplotlib import cm\n",
    "\n",
    "import egosocial\n",
    "from egosocial import config\n",
    "\n",
    "BASE_DIR = os.path.join(egosocial.config.TMP_DIR, 'egocentric', 'results')"
   ]
  },
  {
   "cell_type": "code",
   "execution_count": 4,
   "metadata": {},
   "outputs": [
    {
     "data": {
      "text/plain": [
       "['results_semantic_attributes.csv',\n",
       " 'results_per_class_domain.csv',\n",
       " 'results_per_class_domain_joint.csv',\n",
       " 'results_per_class_domain_from_relation.csv',\n",
       " 'results_domains.csv',\n",
       " 'results_per_class_domain_semantic_attributes.csv',\n",
       " 'results_relations.csv']"
      ]
     },
     "execution_count": 4,
     "metadata": {},
     "output_type": "execute_result"
    }
   ],
   "source": [
    "files = os.listdir(BASE_DIR)\n",
    "files"
   ]
  },
  {
   "cell_type": "code",
   "execution_count": 24,
   "metadata": {},
   "outputs": [],
   "source": [
    "results = pd.read_csv(os.path.join(BASE_DIR, 'results_domains.csv'))\n",
    "results[['Precision', 'Recall', 'Accuracy', 'F1-Score']] = results[['Precision', 'Recall', 'Accuracy', 'F1-Score']] / 100.0"
   ]
  },
  {
   "cell_type": "code",
   "execution_count": 25,
   "metadata": {},
   "outputs": [
    {
     "name": "stderr",
     "output_type": "stream",
     "text": [
      "Notebook:1: SettingWithCopyWarning: \n",
      "A value is trying to be set on a copy of a slice from a DataFrame\n",
      "\n",
      "See the caveats in the documentation: http://pandas.pydata.org/pandas-docs/stable/indexing.html#indexing-view-versus-copy\n"
     ]
    }
   ],
   "source": [
    "results['Unnamed: 0'][results['Unnamed: 0'] == 'DOM-MT-TD-2'] = 'DOM-FROM-REL-MT-TD'"
   ]
  },
  {
   "cell_type": "code",
   "execution_count": 27,
   "metadata": {},
   "outputs": [
    {
     "name": "stderr",
     "output_type": "stream",
     "text": [
      "Notebook:1: SettingWithCopyWarning: \n",
      "A value is trying to be set on a copy of a slice from a DataFrame\n",
      "\n",
      "See the caveats in the documentation: http://pandas.pydata.org/pandas-docs/stable/indexing.html#indexing-view-versus-copy\n"
     ]
    }
   ],
   "source": [
    "results['Unnamed: 0'][results['Unnamed: 0'] == 'DOM-MT-I-2'] = 'DOM-FROM-REL-MT-I'"
   ]
  },
  {
   "cell_type": "code",
   "execution_count": 30,
   "metadata": {},
   "outputs": [
    {
     "data": {
      "text/plain": [
       "Text(0,0.5,'Precision')"
      ]
     },
     "execution_count": 30,
     "metadata": {},
     "output_type": "execute_result"
    },
    {
     "data": {
      "image/png": "[encoded data removed]",
      "text/plain": [
       "<Figure size 432x288 with 1 Axes>"
      ]
     },
     "metadata": {},
     "output_type": "display_data"
    }
   ],
   "source": [
    "fig, ax = plt.subplots()\n",
    "\n",
    "nrof_labels = len(results['Unnamed: 0'])\n",
    "colors = cm.rainbow(np.linspace(0, 1, nrof_labels))     # create a bunch of colors\n",
    "\n",
    "for i, point in results.iterrows():\n",
    "    ax.plot(point['Recall'], point['Precision'], 'o', markersize=5, color=colors[i], linewidth=0.1, label=str(point['Unnamed: 0']))\n",
    "\n",
    "plt.legend(loc='best')\n",
    "plt.xlabel('Recall')\n",
    "plt.ylabel('Precision')"
   ]
  },
  {
   "cell_type": "code",
   "execution_count": 29,
   "metadata": {},
   "outputs": [
    {
     "data": {
      "text/plain": [
       "Text(0,0.5,'F1-Score')"
      ]
     },
     "execution_count": 29,
     "metadata": {},
     "output_type": "execute_result"
    },
    {
     "data": {
      "image/png": "[encoded data removed]",
      "text/plain": [
       "<Figure size 432x288 with 1 Axes>"
      ]
     },
     "metadata": {},
     "output_type": "display_data"
    }
   ],
   "source": [
    "fig, ax = plt.subplots()\n",
    "\n",
    "nrof_labels = len(results['Unnamed: 0'])\n",
    "colors = cm.rainbow(np.linspace(0, 1, nrof_labels))     # create a bunch of colors\n",
    "\n",
    "for i, point in results.iterrows():\n",
    "    ax.plot(point['Accuracy'], point['F1-Score'], 'o', markersize=5, color=colors[i], linewidth=0.1, label=str(point['Unnamed: 0']))\n",
    "\n",
    "plt.legend(loc='best')\n",
    "plt.xlabel('Accuracy')\n",
    "plt.ylabel('F1-Score')"
   ]
  },
  {
   "cell_type": "code",
   "execution_count": 84,
   "metadata": {},
   "outputs": [
    {
     "data": {
      "text/html": [
       "<div>\n",
       "<style scoped>\n",
       "    .dataframe tbody tr th:only-of-type {\n",
       "        vertical-align: middle;\n",
       "    }\n",
       "\n",
       "    .dataframe tbody tr th {\n",
       "        vertical-align: top;\n",
       "    }\n",
       "\n",
       "    .dataframe thead th {\n",
       "        text-align: right;\n",
       "    }\n",
       "</style>\n",
       "<table border=\"1\" class=\"dataframe\">\n",
       "  <thead>\n",
       "    <tr style=\"text-align: right;\">\n",
       "      <th></th>\n",
       "      <th>Domain</th>\n",
       "      <th>Precision</th>\n",
       "      <th>Recall</th>\n",
       "      <th>F1-Score</th>\n",
       "      <th>Support</th>\n",
       "    </tr>\n",
       "  </thead>\n",
       "  <tbody>\n",
       "    <tr>\n",
       "      <th>0</th>\n",
       "      <td>Attachent</td>\n",
       "      <td>0.4000</td>\n",
       "      <td>0.1667</td>\n",
       "      <td>0.2353</td>\n",
       "      <td>12</td>\n",
       "    </tr>\n",
       "    <tr>\n",
       "      <th>1</th>\n",
       "      <td>Coalitional Group</td>\n",
       "      <td>0.7742</td>\n",
       "      <td>0.7742</td>\n",
       "      <td>0.7742</td>\n",
       "      <td>31</td>\n",
       "    </tr>\n",
       "    <tr>\n",
       "      <th>2</th>\n",
       "      <td>Heirarchical Power</td>\n",
       "      <td>0.3333</td>\n",
       "      <td>0.3158</td>\n",
       "      <td>0.3243</td>\n",
       "      <td>19</td>\n",
       "    </tr>\n",
       "    <tr>\n",
       "      <th>3</th>\n",
       "      <td>Mating</td>\n",
       "      <td>0.1333</td>\n",
       "      <td>0.4000</td>\n",
       "      <td>0.2000</td>\n",
       "      <td>5</td>\n",
       "    </tr>\n",
       "    <tr>\n",
       "      <th>4</th>\n",
       "      <td>Reciprocity</td>\n",
       "      <td>0.7031</td>\n",
       "      <td>0.6818</td>\n",
       "      <td>0.6923</td>\n",
       "      <td>66</td>\n",
       "    </tr>\n",
       "    <tr>\n",
       "      <th>5</th>\n",
       "      <td>Attachent</td>\n",
       "      <td>0.3333</td>\n",
       "      <td>0.1667</td>\n",
       "      <td>0.2222</td>\n",
       "      <td>12</td>\n",
       "    </tr>\n",
       "    <tr>\n",
       "      <th>6</th>\n",
       "      <td>Coalitional Group</td>\n",
       "      <td>0.7188</td>\n",
       "      <td>0.7419</td>\n",
       "      <td>0.7302</td>\n",
       "      <td>31</td>\n",
       "    </tr>\n",
       "    <tr>\n",
       "      <th>7</th>\n",
       "      <td>Heirarchical Power</td>\n",
       "      <td>0.2500</td>\n",
       "      <td>0.2105</td>\n",
       "      <td>0.2286</td>\n",
       "      <td>19</td>\n",
       "    </tr>\n",
       "    <tr>\n",
       "      <th>8</th>\n",
       "      <td>Mating</td>\n",
       "      <td>0.1765</td>\n",
       "      <td>0.6000</td>\n",
       "      <td>0.2727</td>\n",
       "      <td>5</td>\n",
       "    </tr>\n",
       "    <tr>\n",
       "      <th>9</th>\n",
       "      <td>Reciprocity</td>\n",
       "      <td>0.7581</td>\n",
       "      <td>0.7121</td>\n",
       "      <td>0.7344</td>\n",
       "      <td>66</td>\n",
       "    </tr>\n",
       "    <tr>\n",
       "      <th>10</th>\n",
       "      <td>Attachent</td>\n",
       "      <td>0.2500</td>\n",
       "      <td>0.0833</td>\n",
       "      <td>0.1250</td>\n",
       "      <td>12</td>\n",
       "    </tr>\n",
       "    <tr>\n",
       "      <th>11</th>\n",
       "      <td>Coalitional Group</td>\n",
       "      <td>0.6571</td>\n",
       "      <td>0.7419</td>\n",
       "      <td>0.6970</td>\n",
       "      <td>31</td>\n",
       "    </tr>\n",
       "    <tr>\n",
       "      <th>12</th>\n",
       "      <td>Heirarchical Power</td>\n",
       "      <td>0.4118</td>\n",
       "      <td>0.3684</td>\n",
       "      <td>0.3889</td>\n",
       "      <td>19</td>\n",
       "    </tr>\n",
       "    <tr>\n",
       "      <th>13</th>\n",
       "      <td>Mating</td>\n",
       "      <td>0.1429</td>\n",
       "      <td>0.4000</td>\n",
       "      <td>0.2105</td>\n",
       "      <td>5</td>\n",
       "    </tr>\n",
       "    <tr>\n",
       "      <th>14</th>\n",
       "      <td>Reciprocity</td>\n",
       "      <td>0.7302</td>\n",
       "      <td>0.6970</td>\n",
       "      <td>0.7132</td>\n",
       "      <td>66</td>\n",
       "    </tr>\n",
       "    <tr>\n",
       "      <th>15</th>\n",
       "      <td>Attachent</td>\n",
       "      <td>0.2500</td>\n",
       "      <td>0.1667</td>\n",
       "      <td>0.2000</td>\n",
       "      <td>12</td>\n",
       "    </tr>\n",
       "    <tr>\n",
       "      <th>16</th>\n",
       "      <td>Coalitional Group</td>\n",
       "      <td>0.6757</td>\n",
       "      <td>0.8065</td>\n",
       "      <td>0.7353</td>\n",
       "      <td>31</td>\n",
       "    </tr>\n",
       "    <tr>\n",
       "      <th>17</th>\n",
       "      <td>Heirarchical Power</td>\n",
       "      <td>0.3750</td>\n",
       "      <td>0.3158</td>\n",
       "      <td>0.3429</td>\n",
       "      <td>19</td>\n",
       "    </tr>\n",
       "    <tr>\n",
       "      <th>18</th>\n",
       "      <td>Mating</td>\n",
       "      <td>0.1250</td>\n",
       "      <td>0.4000</td>\n",
       "      <td>0.1905</td>\n",
       "      <td>5</td>\n",
       "    </tr>\n",
       "    <tr>\n",
       "      <th>19</th>\n",
       "      <td>Reciprocity</td>\n",
       "      <td>0.7143</td>\n",
       "      <td>0.6061</td>\n",
       "      <td>0.6557</td>\n",
       "      <td>66</td>\n",
       "    </tr>\n",
       "  </tbody>\n",
       "</table>\n",
       "</div>"
      ],
      "text/plain": [
       "                Domain  Precision  Recall  F1-Score  Support\n",
       "0            Attachent     0.4000  0.1667    0.2353       12\n",
       "1    Coalitional Group     0.7742  0.7742    0.7742       31\n",
       "2   Heirarchical Power     0.3333  0.3158    0.3243       19\n",
       "3               Mating     0.1333  0.4000    0.2000        5\n",
       "4          Reciprocity     0.7031  0.6818    0.6923       66\n",
       "5            Attachent     0.3333  0.1667    0.2222       12\n",
       "6    Coalitional Group     0.7188  0.7419    0.7302       31\n",
       "7   Heirarchical Power     0.2500  0.2105    0.2286       19\n",
       "8               Mating     0.1765  0.6000    0.2727        5\n",
       "9          Reciprocity     0.7581  0.7121    0.7344       66\n",
       "10           Attachent     0.2500  0.0833    0.1250       12\n",
       "11   Coalitional Group     0.6571  0.7419    0.6970       31\n",
       "12  Heirarchical Power     0.4118  0.3684    0.3889       19\n",
       "13              Mating     0.1429  0.4000    0.2105        5\n",
       "14         Reciprocity     0.7302  0.6970    0.7132       66\n",
       "15           Attachent     0.2500  0.1667    0.2000       12\n",
       "16   Coalitional Group     0.6757  0.8065    0.7353       31\n",
       "17  Heirarchical Power     0.3750  0.3158    0.3429       19\n",
       "18              Mating     0.1250  0.4000    0.1905        5\n",
       "19         Reciprocity     0.7143  0.6061    0.6557       66"
      ]
     },
     "execution_count": 84,
     "metadata": {},
     "output_type": "execute_result"
    }
   ],
   "source": [
    "results = pd.read_csv(os.path.join(BASE_DIR, 'results_per_class_domain_joint.csv'))\n",
    "results"
   ]
  },
  {
   "cell_type": "code",
   "execution_count": 87,
   "metadata": {},
   "outputs": [
    {
     "data": {
      "image/png": "[encoded data removed]",
      "text/plain": [
       "<Figure size 432x288 with 1 Axes>"
      ]
     },
     "metadata": {},
     "output_type": "display_data"
    }
   ],
   "source": [
    "ax = results.iloc[:5].plot('Recall', 'Precision', kind='scatter', c='red', label='DOM-ONLY')\n",
    "results.iloc[5:10].plot('Recall', 'Precision', kind='scatter', c='blue', ax=ax, label='DOM-FROM-REL-ONLY')\n",
    "results.iloc[15:].plot('Recall', 'Precision', kind='scatter', c='purple', ax=ax, label='DOM-MT-TD')\n",
    "results.iloc[10:15].plot('Recall', 'Precision', kind='scatter', c='green', ax=ax, label='DOM-MT-TD-2')\n",
    "\n",
    "for i, point in results.iterrows():\n",
    "    ax.text(point['Recall'], point['Precision'], str(point['Domain'])[0])\n",
    "    \n",
    "domains = results['Domain'].unique()\n",
    "domains_letter = [dom[0] for dom in domains]"
   ]
  },
  {
   "cell_type": "code",
   "execution_count": 102,
   "metadata": {},
   "outputs": [
    {
     "data": {
      "text/html": [
       "<div>\n",
       "<style scoped>\n",
       "    .dataframe tbody tr th:only-of-type {\n",
       "        vertical-align: middle;\n",
       "    }\n",
       "\n",
       "    .dataframe tbody tr th {\n",
       "        vertical-align: top;\n",
       "    }\n",
       "\n",
       "    .dataframe thead th {\n",
       "        text-align: right;\n",
       "    }\n",
       "</style>\n",
       "<table border=\"1\" class=\"dataframe\">\n",
       "  <thead>\n",
       "    <tr style=\"text-align: right;\">\n",
       "      <th></th>\n",
       "      <th>Unnamed: 0</th>\n",
       "      <th>Precision</th>\n",
       "      <th>Recall</th>\n",
       "      <th>F1-Score</th>\n",
       "      <th>Accuracy</th>\n",
       "      <th>Acc Contribution</th>\n",
       "    </tr>\n",
       "  </thead>\n",
       "  <tbody>\n",
       "    <tr>\n",
       "      <th>0</th>\n",
       "      <td>REL-SA-FACE</td>\n",
       "      <td>0.3324</td>\n",
       "      <td>0.2789</td>\n",
       "      <td>0.2339</td>\n",
       "      <td>0.316</td>\n",
       "      <td>53.92</td>\n",
       "    </tr>\n",
       "    <tr>\n",
       "      <th>1</th>\n",
       "      <td>REL-SA-BODY</td>\n",
       "      <td>0.2878</td>\n",
       "      <td>0.2451</td>\n",
       "      <td>0.2530</td>\n",
       "      <td>0.496</td>\n",
       "      <td>84.64</td>\n",
       "    </tr>\n",
       "    <tr>\n",
       "      <th>2</th>\n",
       "      <td>REL-SA-CTX</td>\n",
       "      <td>0.2490</td>\n",
       "      <td>0.2839</td>\n",
       "      <td>0.2518</td>\n",
       "      <td>0.466</td>\n",
       "      <td>79.52</td>\n",
       "    </tr>\n",
       "    <tr>\n",
       "      <th>3</th>\n",
       "      <td>REL-SA-ALL</td>\n",
       "      <td>0.3455</td>\n",
       "      <td>0.3429</td>\n",
       "      <td>0.3326</td>\n",
       "      <td>0.586</td>\n",
       "      <td>100.00</td>\n",
       "    </tr>\n",
       "    <tr>\n",
       "      <th>4</th>\n",
       "      <td>DOM-SA-FACE</td>\n",
       "      <td>0.3663</td>\n",
       "      <td>0.4573</td>\n",
       "      <td>0.3442</td>\n",
       "      <td>0.383</td>\n",
       "      <td>67.91</td>\n",
       "    </tr>\n",
       "    <tr>\n",
       "      <th>5</th>\n",
       "      <td>DOM-SA-BODY</td>\n",
       "      <td>0.3300</td>\n",
       "      <td>0.3137</td>\n",
       "      <td>0.3169</td>\n",
       "      <td>0.504</td>\n",
       "      <td>89.36</td>\n",
       "    </tr>\n",
       "    <tr>\n",
       "      <th>6</th>\n",
       "      <td>DOM-SA-CTX</td>\n",
       "      <td>0.3587</td>\n",
       "      <td>0.3537</td>\n",
       "      <td>0.3361</td>\n",
       "      <td>0.459</td>\n",
       "      <td>81.38</td>\n",
       "    </tr>\n",
       "    <tr>\n",
       "      <th>7</th>\n",
       "      <td>DOM-SA-ALL</td>\n",
       "      <td>0.4280</td>\n",
       "      <td>0.4590</td>\n",
       "      <td>0.4249</td>\n",
       "      <td>0.564</td>\n",
       "      <td>100.00</td>\n",
       "    </tr>\n",
       "  </tbody>\n",
       "</table>\n",
       "</div>"
      ],
      "text/plain": [
       "    Unnamed: 0  Precision  Recall  F1-Score  Accuracy  Acc Contribution\n",
       "0  REL-SA-FACE     0.3324  0.2789    0.2339     0.316             53.92\n",
       "1  REL-SA-BODY     0.2878  0.2451    0.2530     0.496             84.64\n",
       "2   REL-SA-CTX     0.2490  0.2839    0.2518     0.466             79.52\n",
       "3   REL-SA-ALL     0.3455  0.3429    0.3326     0.586            100.00\n",
       "4  DOM-SA-FACE     0.3663  0.4573    0.3442     0.383             67.91\n",
       "5  DOM-SA-BODY     0.3300  0.3137    0.3169     0.504             89.36\n",
       "6   DOM-SA-CTX     0.3587  0.3537    0.3361     0.459             81.38\n",
       "7   DOM-SA-ALL     0.4280  0.4590    0.4249     0.564            100.00"
      ]
     },
     "execution_count": 102,
     "metadata": {},
     "output_type": "execute_result"
    }
   ],
   "source": [
    "results = pd.read_csv(os.path.join(BASE_DIR, 'results_semantic_attributes.csv'))\n",
    "results[['Precision', 'Recall', 'Accuracy', 'F1-Score']] = results[['Precision', 'Recall', 'Accuracy', 'F1-Score']] / 100.0\n",
    "results"
   ]
  },
  {
   "cell_type": "code",
   "execution_count": 103,
   "metadata": {},
   "outputs": [
    {
     "data": {
      "image/png": "[encoded data removed]",
      "text/plain": [
       "<Figure size 432x288 with 1 Axes>"
      ]
     },
     "metadata": {},
     "output_type": "display_data"
    }
   ],
   "source": [
    "ax = results.iloc[:4].plot('Recall', 'Precision', kind='scatter', c='red', label='Relation')\n",
    "results.iloc[4:].plot('Recall', 'Precision', kind='scatter', c='blue', ax=ax, label='Domain')\n",
    "\n",
    "for i, point in results.iterrows():\n",
    "    ax.text(point['Recall'], point['Precision'], str(point['Unnamed: 0'][4:]))"
   ]
  },
  {
   "cell_type": "code",
   "execution_count": 104,
   "metadata": {},
   "outputs": [
    {
     "data": {
      "image/png": "[encoded data removed]",
      "text/plain": [
       "<Figure size 432x288 with 1 Axes>"
      ]
     },
     "metadata": {},
     "output_type": "display_data"
    }
   ],
   "source": [
    "ax = results.iloc[:4].plot('Accuracy', 'F1-Score', kind='scatter', c='red', label='Relation')\n",
    "results.iloc[4:].plot('Accuracy', 'F1-Score', kind='scatter', c='blue', ax=ax, label='Dominio')\n",
    "\n",
    "for i, point in results.iterrows():\n",
    "    ax.text(point['Accuracy'], point['F1-Score'], str(point['Unnamed: 0'][4:]))"
   ]
  },
  {
   "cell_type": "code",
   "execution_count": 109,
   "metadata": {},
   "outputs": [
    {
     "data": {
      "text/html": [
       "<div>\n",
       "<style scoped>\n",
       "    .dataframe tbody tr th:only-of-type {\n",
       "        vertical-align: middle;\n",
       "    }\n",
       "\n",
       "    .dataframe tbody tr th {\n",
       "        vertical-align: top;\n",
       "    }\n",
       "\n",
       "    .dataframe thead th {\n",
       "        text-align: right;\n",
       "    }\n",
       "</style>\n",
       "<table border=\"1\" class=\"dataframe\">\n",
       "  <thead>\n",
       "    <tr style=\"text-align: right;\">\n",
       "      <th></th>\n",
       "      <th>Domain</th>\n",
       "      <th>Precision</th>\n",
       "      <th>Recall</th>\n",
       "      <th>F1-Score</th>\n",
       "      <th>Support</th>\n",
       "    </tr>\n",
       "  </thead>\n",
       "  <tbody>\n",
       "    <tr>\n",
       "      <th>0</th>\n",
       "      <td>Attachent</td>\n",
       "      <td>0.2500</td>\n",
       "      <td>0.1667</td>\n",
       "      <td>0.2000</td>\n",
       "      <td>12</td>\n",
       "    </tr>\n",
       "    <tr>\n",
       "      <th>1</th>\n",
       "      <td>Coalitional Group</td>\n",
       "      <td>0.6757</td>\n",
       "      <td>0.8065</td>\n",
       "      <td>0.7353</td>\n",
       "      <td>31</td>\n",
       "    </tr>\n",
       "    <tr>\n",
       "      <th>2</th>\n",
       "      <td>Heirarchical Power</td>\n",
       "      <td>0.3750</td>\n",
       "      <td>0.3158</td>\n",
       "      <td>0.3429</td>\n",
       "      <td>19</td>\n",
       "    </tr>\n",
       "    <tr>\n",
       "      <th>3</th>\n",
       "      <td>Mating</td>\n",
       "      <td>0.1250</td>\n",
       "      <td>0.4000</td>\n",
       "      <td>0.1905</td>\n",
       "      <td>5</td>\n",
       "    </tr>\n",
       "    <tr>\n",
       "      <th>4</th>\n",
       "      <td>Reciprocity</td>\n",
       "      <td>0.7143</td>\n",
       "      <td>0.6061</td>\n",
       "      <td>0.6557</td>\n",
       "      <td>66</td>\n",
       "    </tr>\n",
       "    <tr>\n",
       "      <th>5</th>\n",
       "      <td>Attachent</td>\n",
       "      <td>0.3000</td>\n",
       "      <td>0.2500</td>\n",
       "      <td>0.2727</td>\n",
       "      <td>12</td>\n",
       "    </tr>\n",
       "    <tr>\n",
       "      <th>6</th>\n",
       "      <td>Coalitional Group</td>\n",
       "      <td>0.4706</td>\n",
       "      <td>0.5161</td>\n",
       "      <td>0.4923</td>\n",
       "      <td>31</td>\n",
       "    </tr>\n",
       "    <tr>\n",
       "      <th>7</th>\n",
       "      <td>Heirarchical Power</td>\n",
       "      <td>0.2222</td>\n",
       "      <td>0.1053</td>\n",
       "      <td>0.1429</td>\n",
       "      <td>19</td>\n",
       "    </tr>\n",
       "    <tr>\n",
       "      <th>8</th>\n",
       "      <td>Mating</td>\n",
       "      <td>0.0000</td>\n",
       "      <td>0.0000</td>\n",
       "      <td>0.0000</td>\n",
       "      <td>5</td>\n",
       "    </tr>\n",
       "    <tr>\n",
       "      <th>9</th>\n",
       "      <td>Reciprocity</td>\n",
       "      <td>0.6571</td>\n",
       "      <td>0.6970</td>\n",
       "      <td>0.6765</td>\n",
       "      <td>66</td>\n",
       "    </tr>\n",
       "    <tr>\n",
       "      <th>10</th>\n",
       "      <td>Attachent</td>\n",
       "      <td>0.1111</td>\n",
       "      <td>0.1667</td>\n",
       "      <td>0.1333</td>\n",
       "      <td>12</td>\n",
       "    </tr>\n",
       "    <tr>\n",
       "      <th>11</th>\n",
       "      <td>Coalitional Group</td>\n",
       "      <td>0.6667</td>\n",
       "      <td>0.7742</td>\n",
       "      <td>0.7164</td>\n",
       "      <td>31</td>\n",
       "    </tr>\n",
       "    <tr>\n",
       "      <th>12</th>\n",
       "      <td>Heirarchical Power</td>\n",
       "      <td>0.1154</td>\n",
       "      <td>0.1579</td>\n",
       "      <td>0.1333</td>\n",
       "      <td>19</td>\n",
       "    </tr>\n",
       "    <tr>\n",
       "      <th>13</th>\n",
       "      <td>Mating</td>\n",
       "      <td>0.0625</td>\n",
       "      <td>0.2000</td>\n",
       "      <td>0.0952</td>\n",
       "      <td>5</td>\n",
       "    </tr>\n",
       "    <tr>\n",
       "      <th>14</th>\n",
       "      <td>Reciprocity</td>\n",
       "      <td>0.8378</td>\n",
       "      <td>0.4697</td>\n",
       "      <td>0.6019</td>\n",
       "      <td>66</td>\n",
       "    </tr>\n",
       "    <tr>\n",
       "      <th>15</th>\n",
       "      <td>Attachent</td>\n",
       "      <td>0.1628</td>\n",
       "      <td>0.5833</td>\n",
       "      <td>0.2545</td>\n",
       "      <td>12</td>\n",
       "    </tr>\n",
       "    <tr>\n",
       "      <th>16</th>\n",
       "      <td>Coalitional Group</td>\n",
       "      <td>0.5200</td>\n",
       "      <td>0.4194</td>\n",
       "      <td>0.4643</td>\n",
       "      <td>31</td>\n",
       "    </tr>\n",
       "    <tr>\n",
       "      <th>17</th>\n",
       "      <td>Heirarchical Power</td>\n",
       "      <td>0.1176</td>\n",
       "      <td>0.1053</td>\n",
       "      <td>0.1111</td>\n",
       "      <td>19</td>\n",
       "    </tr>\n",
       "    <tr>\n",
       "      <th>18</th>\n",
       "      <td>Mating</td>\n",
       "      <td>0.2500</td>\n",
       "      <td>0.8000</td>\n",
       "      <td>0.3810</td>\n",
       "      <td>5</td>\n",
       "    </tr>\n",
       "    <tr>\n",
       "      <th>19</th>\n",
       "      <td>Reciprocity</td>\n",
       "      <td>0.7812</td>\n",
       "      <td>0.3788</td>\n",
       "      <td>0.5102</td>\n",
       "      <td>66</td>\n",
       "    </tr>\n",
       "  </tbody>\n",
       "</table>\n",
       "</div>"
      ],
      "text/plain": [
       "                Domain  Precision  Recall  F1-Score  Support\n",
       "0            Attachent     0.2500  0.1667    0.2000       12\n",
       "1    Coalitional Group     0.6757  0.8065    0.7353       31\n",
       "2   Heirarchical Power     0.3750  0.3158    0.3429       19\n",
       "3               Mating     0.1250  0.4000    0.1905        5\n",
       "4          Reciprocity     0.7143  0.6061    0.6557       66\n",
       "5            Attachent     0.3000  0.2500    0.2727       12\n",
       "6    Coalitional Group     0.4706  0.5161    0.4923       31\n",
       "7   Heirarchical Power     0.2222  0.1053    0.1429       19\n",
       "8               Mating     0.0000  0.0000    0.0000        5\n",
       "9          Reciprocity     0.6571  0.6970    0.6765       66\n",
       "10           Attachent     0.1111  0.1667    0.1333       12\n",
       "11   Coalitional Group     0.6667  0.7742    0.7164       31\n",
       "12  Heirarchical Power     0.1154  0.1579    0.1333       19\n",
       "13              Mating     0.0625  0.2000    0.0952        5\n",
       "14         Reciprocity     0.8378  0.4697    0.6019       66\n",
       "15           Attachent     0.1628  0.5833    0.2545       12\n",
       "16   Coalitional Group     0.5200  0.4194    0.4643       31\n",
       "17  Heirarchical Power     0.1176  0.1053    0.1111       19\n",
       "18              Mating     0.2500  0.8000    0.3810        5\n",
       "19         Reciprocity     0.7812  0.3788    0.5102       66"
      ]
     },
     "execution_count": 109,
     "metadata": {},
     "output_type": "execute_result"
    }
   ],
   "source": [
    "results = pd.read_csv(os.path.join(BASE_DIR, 'results_per_class_domain_semantic_attributes.csv'))\n",
    "results"
   ]
  },
  {
   "cell_type": "code",
   "execution_count": 211,
   "metadata": {
    "scrolled": false
   },
   "outputs": [
    {
     "data": {
      "text/plain": [
       "Text(0,0.5,'F1-Score')"
      ]
     },
     "execution_count": 211,
     "metadata": {},
     "output_type": "execute_result"
    },
    {
     "data": {
      "image/png": "[encoded data removed]",
      "text/plain": [
       "<Figure size 432x288 with 1 Axes>"
      ]
     },
     "metadata": {},
     "output_type": "display_data"
    }
   ],
   "source": [
    "ax = pd.DataFrame(results['F1-Score'].values.reshape(4,-1).T, columns=['SA-ALL', 'SA-BODY', 'SA-CTX', 'SA-FACE']).plot(x=domains, kind='bar', rot=60)\n",
    "ax.set_ylabel('F1-Score')"
   ]
  },
  {
   "cell_type": "code",
   "execution_count": 207,
   "metadata": {},
   "outputs": [
    {
     "data": {
      "text/plain": [
       "<matplotlib.axes._subplots.AxesSubplot at 0x7f7f48aeb4a8>"
      ]
     },
     "execution_count": 207,
     "metadata": {},
     "output_type": "execute_result"
    },
    {
     "data": {
      "image/png": "[encoded data removed]",
      "text/plain": [
       "<Figure size 432x288 with 1 Axes>"
      ]
     },
     "metadata": {},
     "output_type": "display_data"
    }
   ],
   "source": [
    "pd.DataFrame(results['Recall'].values.reshape(4,-1).T, columns=['SA-ALL', 'SA-BODY', 'SA-CTX', 'SA-FACE']).plot(x=domains, kind='bar', rot=60)"
   ]
  },
  {
   "cell_type": "code",
   "execution_count": 208,
   "metadata": {},
   "outputs": [
    {
     "data": {
      "text/plain": [
       "<matplotlib.axes._subplots.AxesSubplot at 0x7f7f48a67d68>"
      ]
     },
     "execution_count": 208,
     "metadata": {},
     "output_type": "execute_result"
    },
    {
     "data": {
      "image/png": "[encoded data removed]",
      "text/plain": [
       "<Figure size 432x288 with 1 Axes>"
      ]
     },
     "metadata": {},
     "output_type": "display_data"
    }
   ],
   "source": [
    "pd.DataFrame(results['Precision'].values.reshape(4,-1).T, columns=['SA-ALL', 'SA-BODY', 'SA-CTX', 'SA-FACE']).plot(x=domains, kind='bar', rot=60)"
   ]
  }
 ],
 "metadata": {
  "kernelspec": {
   "display_name": "Python 3",
   "language": "python",
   "name": "python3"
  },
  "language_info": {
   "codemirror_mode": {
    "name": "ipython",
    "version": 3
   },
   "file_extension": ".py",
   "mimetype": "text/x-python",
   "name": "python",
   "nbconvert_exporter": "python",
   "pygments_lexer": "ipython3",
   "version": "3.6.3"
  }
 },
 "nbformat": 4,
 "nbformat_minor": 2
}
