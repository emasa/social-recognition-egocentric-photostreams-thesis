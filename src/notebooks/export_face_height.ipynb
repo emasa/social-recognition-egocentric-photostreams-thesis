{
 "cells": [
  {
   "cell_type": "code",
   "execution_count": null,
   "metadata": {},
   "outputs": [],
   "source": [
    "def setup_notebook(fix_python_path=True, reduce_margins=True, plot_inline=True):\n",
    "    if reduce_margins:\n",
    "        # Reduce side margins of the notebook\n",
    "        from IPython.core.display import display, HTML\n",
    "        display(HTML(\"<style>.container { width:100% !important; }</style>\"))\n",
    "\n",
    "    if fix_python_path:\n",
    "        # add egosocial to the python path\n",
    "        import os, sys\n",
    "        sys.path.extend([os.path.dirname(os.path.abspath('.'))])\n",
    "\n",
    "    if plot_inline:\n",
    "        # Plots inside cells\n",
    "        %matplotlib inline\n",
    "    \n",
    "    global __file__\n",
    "    __file__ = 'Notebook'\n",
    "\n",
    "setup_notebook()"
   ]
  },
  {
   "cell_type": "code",
   "execution_count": null,
   "metadata": {},
   "outputs": [],
   "source": [
    "import json\n",
    "import itertools\n",
    "import os\n",
    "import pandas as pd\n",
    "import numpy as np\n",
    "\n",
    "import egosocial\n",
    "import egosocial.config\n",
    "\n",
    "from egosocial.utils.filesystem import list_files_in_segment, list_segments\n",
    "from egosocial.utils.parser import FACE_DETECTION, load_faces_from_file"
   ]
  },
  {
   "cell_type": "code",
   "execution_count": null,
   "metadata": {},
   "outputs": [],
   "source": [
    "def load_dataset_defition(dataset_path):\n",
    "    with open(dataset_path, 'r') as json_file:\n",
    "        dataset_def = json.load(json_file)\n",
    "\n",
    "    # flatten the segments structure\n",
    "    samples = pd.DataFrame(list(itertools.chain(*dataset_def)))\n",
    "        \n",
    "    return samples\n",
    "\n",
    "def load_faces(base_dir, face_detection_method=FACE_DETECTION.DOCKER_FACE):\n",
    "    pattern = FACE_DETECTION.get_file_pattern(face_detection_method)\n",
    "\n",
    "    face_map = {}\n",
    "    for split in next(os.walk(base_dir))[1]:\n",
    "        detection_dir = os.path.join(base_dir, split)\n",
    "        for segment_id in list_segments(detection_dir):        \n",
    "            for detection_path in list_files_in_segment(detection_dir,\n",
    "                                                        segment_id,\n",
    "                                                        file_pattern=pattern):\n",
    "                for face in load_faces_from_file(detection_path,\n",
    "                                                  format=face_detection_method):\n",
    "                    face_key = (split, segment_id, face.face_id.split('_')[-1])\n",
    "                    face_map[face_key] = face\n",
    "    \n",
    "    return face_map"
   ]
  },
  {
   "cell_type": "code",
   "execution_count": null,
   "metadata": {},
   "outputs": [],
   "source": [
    "BASE_DIR = os.path.join(egosocial.config.TMP_DIR, 'egocentric', 'datasets')\n",
    "dataset_path = os.path.join(BASE_DIR, 'merged_dataset.json')\n",
    "detection_dir = os.path.join(BASE_DIR, 'facedocker_detection')\n",
    "face_height_path = os.path.join(BASE_DIR, 'face_height.csv')"
   ]
  },
  {
   "cell_type": "code",
   "execution_count": null,
   "metadata": {},
   "outputs": [],
   "source": [
    "data = load_dataset_defition(dataset_path)"
   ]
  },
  {
   "cell_type": "code",
   "execution_count": null,
   "metadata": {},
   "outputs": [],
   "source": [
    "face_map = load_faces(detection_dir)"
   ]
  },
  {
   "cell_type": "code",
   "execution_count": null,
   "metadata": {},
   "outputs": [],
   "source": [
    "def extract_face_height(frames, face_map):\n",
    "    height_values = []\n",
    "    for row in frames.itertuples():\n",
    "        face_key = row.split, str(row.segment_id), str(row.face_id)\n",
    "        face = face_map[face_key]\n",
    "        height_values.append(face.bbox.height)\n",
    "    \n",
    "    return pd.DataFrame(height_values)"
   ]
  },
  {
   "cell_type": "code",
   "execution_count": null,
   "metadata": {},
   "outputs": [],
   "source": [
    "face_height = extract_face_height(data, face_map)"
   ]
  },
  {
   "cell_type": "code",
   "execution_count": null,
   "metadata": {},
   "outputs": [],
   "source": [
    "face_height.to_csv(face_height_path, index=False)"
   ]
  },
  {
   "cell_type": "code",
   "execution_count": null,
   "metadata": {},
   "outputs": [],
   "source": [
    "distance = np.loadtxt(os.path.join(BASE_DIR, 'distance.csv'))\n",
    "output_path = os.path.join(BASE_DIR, 'distance.npy')\n",
    "np.save(output_path, distance)"
   ]
  }
 ],
 "metadata": {
  "kernelspec": {
   "display_name": "Python 3",
   "language": "python",
   "name": "python3"
  },
  "language_info": {
   "codemirror_mode": {
    "name": "ipython",
    "version": 3
   },
   "file_extension": ".py",
   "mimetype": "text/x-python",
   "name": "python",
   "nbconvert_exporter": "python",
   "pygments_lexer": "ipython3",
   "version": "3.6.3"
  }
 },
 "nbformat": 4,
 "nbformat_minor": 2
}
