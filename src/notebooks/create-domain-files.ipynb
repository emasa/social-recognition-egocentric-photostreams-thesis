{
 "cells": [
  {
   "cell_type": "code",
   "execution_count": 29,
   "metadata": {},
   "outputs": [],
   "source": [
    "import os\n",
    "from __future__ import print_function\n",
    "\n",
    "PROJECT_DIR = '/root/shared/Documents/final_proj'\n",
    "SPLITS_DIR = os.path.join(PROJECT_DIR, 'datasets/splits/annotator_consistency3')"
   ]
  },
  {
   "cell_type": "code",
   "execution_count": 33,
   "metadata": {},
   "outputs": [],
   "source": [
    "def relationToDomainLabel(rel_label):\n",
    "    rel_label = int(rel_label)\n",
    "    \n",
    "    if rel_label in range(0, 4):\n",
    "        return 0\n",
    "    elif rel_label in range(4, 7):\n",
    "        return 1\n",
    "    elif rel_label in range(7, 8):\n",
    "        return 2\n",
    "    elif rel_label in range(8, 12):\n",
    "        return 3\n",
    "    elif rel_label in range(12, 16):\n",
    "        return 4\n",
    "    \n",
    "    raise LookupError('Label out of range: {}. Valid range: [0,16).'.format(rel_label))"
   ]
  },
  {
   "cell_type": "code",
   "execution_count": 19,
   "metadata": {},
   "outputs": [],
   "source": [
    "def createDomainFiles(splits_dir):\n",
    "    rel_classes, dom_classes = 16, 5\n",
    "    \n",
    "    for rel_filename in os.listdir(splits_dir):\n",
    "        base_rel_filename, ext = os.path.splitext(rel_filename)\n",
    "        prefix, classes = base_rel_filename.rsplit('_', 1)\n",
    "        if str(rel_classes) != classes:\n",
    "            continue\n",
    "\n",
    "        dom_filename = 'domain_' + prefix + '_' + str(dom_classes) + ext\n",
    "        dom_split_file = os.path.join(splits_dir, dom_filename)\n",
    "        rel_split_file = os.path.join(splits_dir, rel_filename)\n",
    "        \n",
    "        print('Creating domain file: {} from relation file: {}'.format(dom_split_file, rel_split_file))\n",
    "        \n",
    "        with open(dom_split_file, 'wt') as f_dom:\n",
    "            with open(rel_split_file, 'rt') as f_rel:\n",
    "                for path_label in f_rel:\n",
    "                    path, rel_label = path_label.rsplit(' ', 1)\n",
    "                    print(path, relationToDomainLabel(rel_label), file=f_dom)"
   ]
  },
  {
   "cell_type": "code",
   "execution_count": 35,
   "metadata": {},
   "outputs": [],
   "source": [
    "#createDomainFiles(SPLITS_DIR)\n",
    "#with open(os.path.join(SPLITS_DIR, 'domain_single_body1_eval_5.txt'), 'rw') as f:\n",
    "#    print(f.read())"
   ]
  }
 ],
 "metadata": {
  "kernelspec": {
   "display_name": "Python 3",
   "language": "python",
   "name": "python3"
  },
  "language_info": {
   "codemirror_mode": {
    "name": "ipython",
    "version": 3
   },
   "file_extension": ".py",
   "mimetype": "text/x-python",
   "name": "python",
   "nbconvert_exporter": "python",
   "pygments_lexer": "ipython3",
   "version": "3.5.4"
  }
 },
 "nbformat": 4,
 "nbformat_minor": 2
}
