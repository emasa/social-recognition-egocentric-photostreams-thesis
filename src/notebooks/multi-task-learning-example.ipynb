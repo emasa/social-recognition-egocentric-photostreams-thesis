{
 "cells": [
  {
   "cell_type": "code",
   "execution_count": null,
   "metadata": {},
   "outputs": [],
   "source": [
    "import numpy as np\n",
    "np.random.seed(0)"
   ]
  },
  {
   "cell_type": "markdown",
   "metadata": {},
   "source": [
    "# Evaluate on synthetic data"
   ]
  },
  {
   "cell_type": "code",
   "execution_count": null,
   "metadata": {},
   "outputs": [],
   "source": [
    "N = 100\n",
    "nb_epoch = 2000\n",
    "batch_size = 20\n",
    "nb_features = 1024\n",
    "Q = 1\n",
    "D1 = 1  # first output\n",
    "D2 = 1  # second output"
   ]
  },
  {
   "cell_type": "code",
   "execution_count": null,
   "metadata": {},
   "outputs": [],
   "source": [
    "def gen_data(N):\n",
    "    X = np.random.randn(N, Q)\n",
    "    w1 = 2.\n",
    "    b1 = 8.\n",
    "    sigma1 = 10  # ground truth\n",
    "    Y1 = X.dot(w1) + b1 + sigma1 * np.random.randn(N, D1)\n",
    "    w2 = 3\n",
    "    b2 = 3.\n",
    "    sigma2 = 1  # ground truth\n",
    "    Y2 = X.dot(w2) + b2 + sigma2 * np.random.randn(N, D2)\n",
    "    return X, Y1, Y2"
   ]
  },
  {
   "cell_type": "code",
   "execution_count": null,
   "metadata": {},
   "outputs": [
    {
     "data": {
      "image/png": "[encoded data removed]",
      "text/plain": [
       "<matplotlib.figure.Figure at 0x7fd0c6c073c8>"
      ]
     },
     "metadata": {},
     "output_type": "display_data"
    }
   ],
   "source": [
    "import matplotlib.pyplot as plt\n",
    "%matplotlib inline\n",
    "\n",
    "X, Y1, Y2 = gen_data(N)\n",
    "plt.figure()\n",
    "plt.scatter(X[:, 0], Y1[:, 0])\n",
    "plt.scatter(X[:, 0], Y2[:, 0])\n",
    "plt.show()"
   ]
  },
  {
   "cell_type": "markdown",
   "metadata": {},
   "source": [
    "# Multi loss layer"
   ]
  },
  {
   "cell_type": "markdown",
   "metadata": {},
   "source": [
    "# Example model"
   ]
  },
  {
   "cell_type": "code",
   "execution_count": null,
   "metadata": {},
   "outputs": [],
   "source": [
    "from keras.layers import Input, Dense\n",
    "from keras.models import Model\n",
    "\n",
    "from egosocial.utils.keras.autolosses import AutoMultiLossWrapper\n",
    "\n",
    "# model example\n",
    "def get_prediction_model():\n",
    "    inp = Input(shape=(Q,), name='input')\n",
    "    x = Dense(nb_features, activation='relu')(inp)  \n",
    "    y1_pred = Dense(D1, name='y1')(x)\n",
    "    y2_pred = Dense(D2, name='y2')(x)\n",
    "    return Model(inp, [y1_pred, y2_pred])\n",
    "\n",
    "auto_ml_wrapper = AutoMultiLossWrapper(get_prediction_model())\n",
    "\n",
    "# identical to model.compile except that accepts loss_weights='auto'\n",
    "auto_ml_wrapper.compile(optimizer='adam',\n",
    "                        loss='mse',\n",
    "#                        loss={'y1': 'mse', 'y2': 'mse'},\n",
    "#                        loss=['mse', 'mse'],\n",
    "                        loss_weights='auto'\n",
    "                       )"
   ]
  },
  {
   "cell_type": "code",
   "execution_count": null,
   "metadata": {},
   "outputs": [
    {
     "name": "stdout",
     "output_type": "stream",
     "text": [
      "__________________________________________________________________________________________________\n",
      "Layer (type)                    Output Shape         Param #     Connected to                     \n",
      "==================================================================================================\n",
      "input (InputLayer)              (None, 1)            0                                            \n",
      "__________________________________________________________________________________________________\n",
      "dense_1 (Dense)                 (None, 1024)         2048        input[0][0]                      \n",
      "__________________________________________________________________________________________________\n",
      "y1 (Dense)                      (None, 1)            1025        dense_1[0][0]                    \n",
      "__________________________________________________________________________________________________\n",
      "y2 (Dense)                      (None, 1)            1025        dense_1[0][0]                    \n",
      "__________________________________________________________________________________________________\n",
      "auto_loss_w (AutoMultiLossLayer [(None, 1), (None, 1 2           y1[0][0]                         \n",
      "                                                                 y2[0][0]                         \n",
      "==================================================================================================\n",
      "Total params: 4,100\n",
      "Trainable params: 4,100\n",
      "Non-trainable params: 0\n",
      "__________________________________________________________________________________________________\n"
     ]
    }
   ],
   "source": [
    "# the extended model contains the dummy layer at the end\n",
    "trainable_model = auto_ml_wrapper.model\n",
    "trainable_model.summary()"
   ]
  },
  {
   "cell_type": "code",
   "execution_count": 9,
   "metadata": {
    "scrolled": true
   },
   "outputs": [],
   "source": [
    "# train extended model\n",
    "# deals with the dummy output internally\n",
    "hist = trainable_model.fit(X, [Y1, Y2], \n",
    "                           epochs=nb_epoch, batch_size=batch_size, \n",
    "                           verbose=0)"
   ]
  },
  {
   "cell_type": "code",
   "execution_count": 10,
   "metadata": {},
   "outputs": [
    {
     "data": {
      "image/png": "[encoded data removed]",
      "text/plain": [
       "<matplotlib.figure.Figure at 0x7fd0b4142358>"
      ]
     },
     "metadata": {},
     "output_type": "display_data"
    }
   ],
   "source": [
    "# auto weighted multi-loss\n",
    "plt.figure(figsize=(10, 6))\n",
    "for idx, loss_name in enumerate(hist.history):\n",
    "    plt.subplot(2,2,idx+1)\n",
    "    plt.plot(hist.history[loss_name])\n",
    "    plt.title(loss_name)"
   ]
  },
  {
   "cell_type": "code",
   "execution_count": 12,
   "metadata": {},
   "outputs": [
    {
     "data": {
      "text/plain": [
       "[9.993548410182449, 0.9203630754080946]"
      ]
     },
     "execution_count": 12,
     "metadata": {},
     "output_type": "execute_result"
    }
   ],
   "source": [
    "# Found standard deviations (ground truth is 10 and 1)\n",
    "auto_ml_wrapper.get_sigma()"
   ]
  },
  {
   "cell_type": "code",
   "execution_count": 13,
   "metadata": {},
   "outputs": [
    {
     "name": "stdout",
     "output_type": "stream",
     "text": [
      "__________________________________________________________________________________________________\n",
      "Layer (type)                    Output Shape         Param #     Connected to                     \n",
      "==================================================================================================\n",
      "input (InputLayer)              (None, 1)            0                                            \n",
      "__________________________________________________________________________________________________\n",
      "dense_1 (Dense)                 (None, 1024)         2048        input[0][0]                      \n",
      "__________________________________________________________________________________________________\n",
      "y1 (Dense)                      (None, 1)            1025        dense_1[0][0]                    \n",
      "__________________________________________________________________________________________________\n",
      "y2 (Dense)                      (None, 1)            1025        dense_1[0][0]                    \n",
      "==================================================================================================\n",
      "Total params: 4,098\n",
      "Trainable params: 4,098\n",
      "Non-trainable params: 0\n",
      "__________________________________________________________________________________________________\n"
     ]
    }
   ],
   "source": [
    "# original model can be used for predictions\n",
    "prediction_model = auto_ml_wrapper.original_model\n",
    "prediction_model.summary()"
   ]
  },
  {
   "cell_type": "code",
   "execution_count": 14,
   "metadata": {},
   "outputs": [
    {
     "data": {
      "image/png": "[encoded data removed]",
      "text/plain": [
       "<matplotlib.figure.Figure at 0x7fd0c8add470>"
      ]
     },
     "metadata": {},
     "output_type": "display_data"
    }
   ],
   "source": [
    "import matplotlib.pyplot as plt\n",
    "%matplotlib inline\n",
    "\n",
    "Y1_pred, Y2_pred = prediction_model.predict(X)\n",
    "plt.figure()\n",
    "plt.scatter(X[:, 0], Y1_pred[:, 0])\n",
    "plt.scatter(X[:, 0], Y2_pred[:, 0])\n",
    "plt.show()"
   ]
  }
 ],
 "metadata": {
  "kernelspec": {
   "display_name": "Python 3",
   "language": "python",
   "name": "python3"
  },
  "language_info": {
   "codemirror_mode": {
    "name": "ipython",
    "version": 3
   },
   "file_extension": ".py",
   "mimetype": "text/x-python",
   "name": "python",
   "nbconvert_exporter": "python",
   "pygments_lexer": "ipython3",
   "version": "3.6.3"
  }
 },
 "nbformat": 4,
 "nbformat_minor": 1
}
