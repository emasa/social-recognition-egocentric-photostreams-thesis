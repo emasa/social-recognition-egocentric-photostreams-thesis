{
 "cells": [
  {
   "cell_type": "markdown",
   "metadata": {},
   "source": [
    "# Notebook details"
   ]
  },
  {
   "cell_type": "code",
   "execution_count": null,
   "metadata": {},
   "outputs": [],
   "source": [
    "def setup_notebook(fix_python_path=True, reduce_margins=True, plot_inline=True):\n",
    "    if reduce_margins:\n",
    "        # Reduce side margins of the notebook\n",
    "        from IPython.core.display import display, HTML\n",
    "        display(HTML(\"<style>.container { width:100% !important; }</style>\"))\n",
    "\n",
    "    if fix_python_path:\n",
    "        # add egosocial to the python path\n",
    "        import os, sys\n",
    "        sys.path.extend([os.path.dirname(os.path.abspath('.'))])\n",
    "\n",
    "    if plot_inline:\n",
    "        # Plots inside cells\n",
    "        %matplotlib inline\n",
    "    \n",
    "    global __file__\n",
    "    __file__ = 'Notebook'\n",
    "\n",
    "setup_notebook()"
   ]
  },
  {
   "cell_type": "markdown",
   "metadata": {},
   "source": [
    "# Imports and Constants Definition"
   ]
  },
  {
   "cell_type": "code",
   "execution_count": null,
   "metadata": {},
   "outputs": [],
   "source": [
    "# !/usr/bin/env python\n",
    "# -*- coding: utf-8 -*-\n",
    "\n",
    "import argparse\n",
    "import json\n",
    "import logging\n",
    "import os\n",
    "\n",
    "import IPython\n",
    "import ipywidgets as widgets\n",
    "\n",
    "import cv2\n",
    "\n",
    "import egosocial\n",
    "from egosocial import config\n",
    "from egosocial.core.types import FaceClustering\n",
    "from egosocial.utils.filesystem import check_directory \n",
    "from egosocial.utils.filesystem import create_directory\n",
    "from egosocial.utils.filesystem import list_files_in_segment\n",
    "from egosocial.utils.filesystem import list_segments\n",
    "from egosocial.utils.logging import setup_logging\n",
    "from egosocial.utils.parser import FACE_DETECTION\n",
    "from egosocial.utils.parser import load_faces_from_file\n",
    "\n",
    "DOMAINS = ['Attachent', 'Reciprocity', 'Mating', 'Heirarchical Power', 'Coalitional Group']\n",
    "RELATIONS = [\n",
    "    ['father-child', 'mother-child', 'grandpa-grandchild', 'grandma-grandchild'],\n",
    "    ['friends', 'siblings', 'classmates'],\n",
    "    ['lovers/spouses'],\n",
    "    ['presenter-audience', 'teacher-student', 'trainer-trainee', 'leader-subordinate', 'customer-staff'],\n",
    "    ['band members', 'dance team members', 'sport team members', 'colleages'],\n",
    "]\n",
    "\n",
    "def relation_to_domain(rel_label):\n",
    "    for dom_idx, grouped_relations in enumerate(RELATIONS):\n",
    "        for relation in grouped_relations:\n",
    "            if rel_label == relation:\n",
    "                return DOMAINS[dom_idx]\n",
    "    \n",
    "    for domain in DOMAINS:\n",
    "        if domain in rel_label:\n",
    "            return domain\n",
    "    \n",
    "    return rel_label"
   ]
  },
  {
   "cell_type": "code",
   "execution_count": null,
   "metadata": {},
   "outputs": [],
   "source": [
    "if not os.path.isdir(egosocial.config.TMP_DIR):\n",
    "    os.mkdir(egosocial.config.TMP_DIR)\n",
    "\n",
    "setup_logging(egosocial.config.LOGGING_CONFIG,\n",
    "              log_dir=egosocial.config.LOGS_DIR)"
   ]
  },
  {
   "cell_type": "code",
   "execution_count": null,
   "metadata": {},
   "outputs": [],
   "source": [
    "#!pip install pandas\n",
    "import pandas as pd\n",
    "\n",
    "def load_labels(labels_dir, labels_file_name):\n",
    "    segments = sorted(list_segments(labels_dir), key=int)\n",
    "    labels_data = []\n",
    "    \n",
    "    for segment_id in segments:\n",
    "        segm_labels_dir = os.path.join(labels_dir, segment_id)\n",
    "        check_directory(segm_labels_dir, 'Labels')    \n",
    "        \n",
    "        labels_file = os.path.join(segm_labels_dir, labels_file_name)\n",
    "        if not os.path.exists(labels_file):\n",
    "            continue\n",
    "        \n",
    "        with open(labels_file, 'r') as json_file:\n",
    "            labels_per_segment = json.load(json_file)\n",
    "        \n",
    "        for labels_group_id in sorted(labels_per_segment, key=lambda x : int(x['group_id'])):\n",
    "            label_list, group_id = labels_group_id['labels'], int(labels_group_id['group_id'])\n",
    "            if not label_list:\n",
    "                label_list = ['unknown']\n",
    "\n",
    "            for str_label in label_list:\n",
    "                entry = int(segment_id), int(group_id), str_label, relation_to_domain(str_label)\n",
    "                labels_data.append(entry)\n",
    "    \n",
    "    labels_df = pd.DataFrame(labels_data, columns=['segment_id', 'group_id', 'label', 'domain_label'])\n",
    "    \n",
    "    return labels_df"
   ]
  },
  {
   "cell_type": "code",
   "execution_count": null,
   "metadata": {
    "scrolled": true
   },
   "outputs": [],
   "source": [
    "BASE_DIR = os.path.join(egosocial.config.TMP_DIR, 'egocentric', 'datasets')\n",
    "#base_labels_dir = '/media/emasa/OS/Users/Emanuel/Downloads/NO_SYNC/Social Segments/labels/'\n",
    "\n",
    "base_labels_dir = os.path.join(BASE_DIR, 'labels')\n",
    "labels_file_name = 'labels.json'\n",
    "\n",
    "train_labels_dir = os.path.join(base_labels_dir, 'train')\n",
    "train_labels_df = load_labels(train_labels_dir, labels_file_name)"
   ]
  },
  {
   "cell_type": "code",
   "execution_count": null,
   "metadata": {},
   "outputs": [],
   "source": [
    "#train_labels_df.label.value_counts().plot(kind='pie', figsize=(10, 10))\n",
    "train_labels_df.label.value_counts().plot(kind='barh', figsize=(10, 10))"
   ]
  },
  {
   "cell_type": "code",
   "execution_count": null,
   "metadata": {},
   "outputs": [],
   "source": [
    "test_labels_dir = os.path.join(base_labels_dir, 'test')\n",
    "\n",
    "test_labels_df = load_labels(test_labels_dir, labels_file_name)"
   ]
  },
  {
   "cell_type": "code",
   "execution_count": null,
   "metadata": {
    "scrolled": false
   },
   "outputs": [],
   "source": [
    "test_labels_df.label.value_counts().plot(kind='pie', figsize=(10, 10))\n",
    "#test_labels_df.label.value_counts().plot(kind='barh', figsize=(10, 10))"
   ]
  },
  {
   "cell_type": "code",
   "execution_count": null,
   "metadata": {},
   "outputs": [],
   "source": [
    "extended_labels_dir = os.path.join(base_labels_dir, 'extended')\n",
    "extended_labels_df = load_labels(extended_labels_dir, labels_file_name)"
   ]
  },
  {
   "cell_type": "code",
   "execution_count": null,
   "metadata": {},
   "outputs": [],
   "source": [
    "#extended_labels_df.label.value_counts().plot(kind='pie', figsize=(10, 10))\n",
    "extended_labels_df.label.value_counts().plot(kind='barh', figsize=(10, 10))"
   ]
  },
  {
   "cell_type": "code",
   "execution_count": null,
   "metadata": {},
   "outputs": [],
   "source": [
    "all_labels_df = pd.concat([train_labels_df, test_labels_df, extended_labels_df])"
   ]
  },
  {
   "cell_type": "code",
   "execution_count": null,
   "metadata": {},
   "outputs": [],
   "source": [
    "import matplotlib.pyplot as plt\n",
    "FONT_SIZE = 25\n",
    "\n",
    "plt.rc('xtick', labelsize=FONT_SIZE)    # fontsize of the tick labels\n",
    "plt.rc('ytick', labelsize=FONT_SIZE)    # fontsize of the tick labels"
   ]
  },
  {
   "cell_type": "code",
   "execution_count": null,
   "metadata": {},
   "outputs": [],
   "source": [
    "all_labels_df.label[all_labels_df.label == 'colleages'] = 'colleagues'\n",
    "\n",
    "mask_filter = ~all_labels_df.label.isin(['Attachent others', 'unknown', 'siblings', 'teacher-student'])\n",
    "included_labels_df = all_labels_df[mask_filter]\n",
    "\n",
    "relation_plot = included_labels_df.label.value_counts().plot(kind='barh', figsize=(10, 10))\n",
    "\n",
    "for p in relation_plot.patches:\n",
    "    relation_plot.annotate(str(p.get_width()), (p.get_width() * 1.01, p.get_y() * 1.03), fontsize=18)"
   ]
  },
  {
   "cell_type": "code",
   "execution_count": null,
   "metadata": {},
   "outputs": [],
   "source": [
    "domain_plot = included_labels_df.domain_label.value_counts().plot(kind='barh', figsize=(10, 10))\n",
    "\n",
    "for p in domain_plot.patches:\n",
    "    domain_plot.annotate(str(p.get_width()), (p.get_width() * 1.01, p.get_y() * 1.05), fontsize=20)\n",
    "    \n",
    "domain_plot"
   ]
  },
  {
   "cell_type": "code",
   "execution_count": null,
   "metadata": {},
   "outputs": [],
   "source": [
    "relations = all_labels_df.label\n",
    "counts = relations.value_counts()\n",
    "counts, counts / relations.count()"
   ]
  },
  {
   "cell_type": "code",
   "execution_count": null,
   "metadata": {},
   "outputs": [],
   "source": [
    "domains = all_labels_df.domain_label\n",
    "counts = domains.value_counts()\n",
    "counts"
   ]
  }
 ],
 "metadata": {
  "kernelspec": {
   "display_name": "Python 3",
   "language": "python",
   "name": "python3"
  },
  "language_info": {
   "codemirror_mode": {
    "name": "ipython",
    "version": 3
   },
   "file_extension": ".py",
   "mimetype": "text/x-python",
   "name": "python",
   "nbconvert_exporter": "python",
   "pygments_lexer": "ipython3",
   "version": "3.6.3"
  }
 },
 "nbformat": 4,
 "nbformat_minor": 2
}
