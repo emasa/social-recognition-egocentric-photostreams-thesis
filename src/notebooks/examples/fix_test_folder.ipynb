{
 "cells": [
  {
   "cell_type": "code",
   "execution_count": null,
   "metadata": {},
   "outputs": [],
   "source": [
    "for segment in sorted(os.listdir('.'), key=int):\n",
    "    data_dir = os.path.join(segment, 'data')\n",
    "    if os.path.isdir(data_dir):\n",
    "    for file in os.listdir(data_dir):\n",
    "        src_file = os.path.join(segment, 'data', file)\n",
    "        dst_file = os.path.join(segment, file)\n",
    "        shutil.move(src_file, dst_file)\n",
    "        os.rmdir(data_dir)"
   ]
  }
 ],
 "metadata": {
  "kernelspec": {
   "display_name": "Python 3",
   "language": "python",
   "name": "python3"
  },
  "language_info": {
   "codemirror_mode": {
    "name": "ipython",
    "version": 3
   },
   "file_extension": ".py",
   "mimetype": "text/x-python",
   "name": "python",
   "nbconvert_exporter": "python",
   "pygments_lexer": "ipython3",
   "version": "3.6.3"
  }
 },
 "nbformat": 4,
 "nbformat_minor": 2
}
